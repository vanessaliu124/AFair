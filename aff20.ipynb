{
 "cells": [
  {
   "cell_type": "markdown",
   "metadata": {},
   "source": [
    "# Logistic Regression with scikit-learn\n",
    "\n",
    "This is an example of logistic regression in Python with the [scikit-learn module](http://scikit-learn.org/), performed for an [assignment](https://github.com/ajschumacher/gadsdc/tree/master/logistic_assignment) with my [General Assembly Data Science class](https://generalassemb.ly/education/data-science).\n",
    "\n",
    "## Dataset\n",
    "\n",
    "The dataset I chose is the [affairs dataset](http://statsmodels.sourceforge.net/stable/datasets/generated/fair.html) that comes with [Statsmodels](http://statsmodels.sourceforge.net/). It was derived from a survey of women in 1974 by Redbook magazine, in which married women were asked about their participation in extramarital affairs. More information about the study is available in a [1978 paper](http://fairmodel.econ.yale.edu/rayfair/pdf/1978a200.pdf) from the Journal of Political Economy.\n",
    "\n",
    "## Description of Variables\n",
    "\n",
    "The dataset contains 6366 observations of 9 variables:\n",
    "\n",
    "* `rate_marriage`: woman's rating of her marriage (1 = very poor, 5 = very good)\n",
    "* `age`: woman's age\n",
    "* `yrs_married`: number of years married\n",
    "* `children`: number of children\n",
    "* `religious`: woman's rating of how religious she is (1 = not religious, 4 = strongly religious)\n",
    "* `educ`: level of education (9 = grade school, 12 = high school, 14 = some college, 16 = college graduate, 17 = some graduate school, 20 = advanced degree)\n",
    "* `occupation`: woman's occupation (1 = student, 2 = farming/semi-skilled/unskilled, 3 = \"white collar\", 4 = teacher/nurse/writer/technician/skilled, 5 = managerial/business, 6 = professional with advanced degree)\n",
    "* `occupation_husb`: husband's occupation (same coding as above)\n",
    "* `affairs`: time spent in extra-marital affairs\n",
    "\n"
   ]
  },
  {
   "cell_type": "code",
   "execution_count": 258,
   "metadata": {
    "collapsed": false
   },
   "outputs": [],
   "source": [
    "#the code below imports a few packages we will need for this analysis\n",
    "%matplotlib inline\n",
    "import matplotlib.pyplot as plt\n",
    "import pandas as pd\n",
    "import statsmodels.api as sm\n",
    "import pylab as pl\n",
    "import numpy as np\n",
    "from patsy import dmatrices\n"
   ]
  },
  {
   "cell_type": "code",
   "execution_count": 259,
   "metadata": {
    "collapsed": false
   },
   "outputs": [
    {
     "name": "stdout",
     "output_type": "stream",
     "text": [
      "   rate_marriage   age  yrs_married  children  religious  educ  occupation  occupation_husb   affairs\n",
      "0            3.0  32.0          9.0       3.0        3.0  17.0         2.0              5.0  0.111111\n",
      "1            3.0  27.0         13.0       3.0        1.0  14.0         3.0              4.0  3.230769\n",
      "2            4.0  22.0          2.5       0.0        1.0  16.0         3.0              5.0  1.400000\n",
      "3            4.0  37.0         16.5       4.0        3.0  16.0         5.0              5.0  0.727273\n",
      "4            5.0  27.0          9.0       1.0        1.0  14.0         3.0              4.0  4.666666\n"
     ]
    }
   ],
   "source": [
    "#Import Data from Statsmodel\n",
    "df = sm.datasets.fair.load_pandas().data\n",
    "pd.set_option('display.width', 1000)\n",
    "print df.head()\n"
   ]
  },
  {
   "cell_type": "code",
   "execution_count": 260,
   "metadata": {
    "collapsed": false
   },
   "outputs": [
    {
     "ename": "TypeError",
     "evalue": "isinstance() arg 2 must be a class, type, or tuple of classes and types",
     "output_type": "error",
     "traceback": [
      "\u001b[0;31m---------------------------------------------------------------------------\u001b[0m",
      "\u001b[0;31mTypeError\u001b[0m                                 Traceback (most recent call last)",
      "\u001b[0;32m<ipython-input-260-3c494aad77ca>\u001b[0m in \u001b[0;36m<module>\u001b[0;34m()\u001b[0m\n\u001b[0;32m----> 1\u001b[0;31m \u001b[1;32mprint\u001b[0m \u001b[0mdf\u001b[0m\u001b[1;33m.\u001b[0m\u001b[0mdescribe\u001b[0m\u001b[1;33m(\u001b[0m\u001b[1;33m)\u001b[0m\u001b[1;33m\u001b[0m\u001b[0m\n\u001b[0m",
      "\u001b[0;32mC:\\Users\\Chengcheng Liu\\Anaconda2\\lib\\site-packages\\pandas\\core\\generic.pyc\u001b[0m in \u001b[0;36mdescribe\u001b[0;34m(self, percentiles, include, exclude)\u001b[0m\n\u001b[1;32m   4933\u001b[0m             \u001b[1;32mif\u001b[0m \u001b[0mlen\u001b[0m\u001b[1;33m(\u001b[0m\u001b[0mself\u001b[0m\u001b[1;33m.\u001b[0m\u001b[0m_get_numeric_data\u001b[0m\u001b[1;33m(\u001b[0m\u001b[1;33m)\u001b[0m\u001b[1;33m.\u001b[0m\u001b[0m_info_axis\u001b[0m\u001b[1;33m)\u001b[0m \u001b[1;33m>\u001b[0m \u001b[1;36m0\u001b[0m\u001b[1;33m:\u001b[0m\u001b[1;33m\u001b[0m\u001b[0m\n\u001b[1;32m   4934\u001b[0m                 \u001b[1;31m# when some numerics are found, keep only numerics\u001b[0m\u001b[1;33m\u001b[0m\u001b[1;33m\u001b[0m\u001b[0m\n\u001b[0;32m-> 4935\u001b[0;31m                 \u001b[0mdata\u001b[0m \u001b[1;33m=\u001b[0m \u001b[0mself\u001b[0m\u001b[1;33m.\u001b[0m\u001b[0mselect_dtypes\u001b[0m\u001b[1;33m(\u001b[0m\u001b[0minclude\u001b[0m\u001b[1;33m=\u001b[0m\u001b[1;33m[\u001b[0m\u001b[0mnp\u001b[0m\u001b[1;33m.\u001b[0m\u001b[0mnumber\u001b[0m\u001b[1;33m]\u001b[0m\u001b[1;33m)\u001b[0m\u001b[1;33m\u001b[0m\u001b[0m\n\u001b[0m\u001b[1;32m   4936\u001b[0m             \u001b[1;32melse\u001b[0m\u001b[1;33m:\u001b[0m\u001b[1;33m\u001b[0m\u001b[0m\n\u001b[1;32m   4937\u001b[0m                 \u001b[0mdata\u001b[0m \u001b[1;33m=\u001b[0m \u001b[0mself\u001b[0m\u001b[1;33m\u001b[0m\u001b[0m\n",
      "\u001b[0;32mC:\\Users\\Chengcheng Liu\\Anaconda2\\lib\\site-packages\\pandas\\core\\frame.pyc\u001b[0m in \u001b[0;36mselect_dtypes\u001b[0;34m(self, include, exclude)\u001b[0m\n\u001b[1;32m   2313\u001b[0m         \u001b[1;31m# the \"union\" of the logic of case 1 and case 2:\u001b[0m\u001b[1;33m\u001b[0m\u001b[1;33m\u001b[0m\u001b[0m\n\u001b[1;32m   2314\u001b[0m         \u001b[1;31m# we get the included and excluded, and return their logical and\u001b[0m\u001b[1;33m\u001b[0m\u001b[1;33m\u001b[0m\u001b[0m\n\u001b[0;32m-> 2315\u001b[0;31m         \u001b[0minclude_these\u001b[0m \u001b[1;33m=\u001b[0m \u001b[0mSeries\u001b[0m\u001b[1;33m(\u001b[0m\u001b[1;32mnot\u001b[0m \u001b[0mbool\u001b[0m\u001b[1;33m(\u001b[0m\u001b[0minclude\u001b[0m\u001b[1;33m)\u001b[0m\u001b[1;33m,\u001b[0m \u001b[0mindex\u001b[0m\u001b[1;33m=\u001b[0m\u001b[0mself\u001b[0m\u001b[1;33m.\u001b[0m\u001b[0mcolumns\u001b[0m\u001b[1;33m)\u001b[0m\u001b[1;33m\u001b[0m\u001b[0m\n\u001b[0m\u001b[1;32m   2316\u001b[0m         \u001b[0mexclude_these\u001b[0m \u001b[1;33m=\u001b[0m \u001b[0mSeries\u001b[0m\u001b[1;33m(\u001b[0m\u001b[1;32mnot\u001b[0m \u001b[0mbool\u001b[0m\u001b[1;33m(\u001b[0m\u001b[0mexclude\u001b[0m\u001b[1;33m)\u001b[0m\u001b[1;33m,\u001b[0m \u001b[0mindex\u001b[0m\u001b[1;33m=\u001b[0m\u001b[0mself\u001b[0m\u001b[1;33m.\u001b[0m\u001b[0mcolumns\u001b[0m\u001b[1;33m)\u001b[0m\u001b[1;33m\u001b[0m\u001b[0m\n\u001b[1;32m   2317\u001b[0m \u001b[1;33m\u001b[0m\u001b[0m\n",
      "\u001b[0;32mC:\\Users\\Chengcheng Liu\\Anaconda2\\lib\\site-packages\\pandas\\core\\series.pyc\u001b[0m in \u001b[0;36m__init__\u001b[0;34m(self, data, index, dtype, name, copy, fastpath)\u001b[0m\n\u001b[1;32m    201\u001b[0m                                      \"dtype='category'\")\n\u001b[1;32m    202\u001b[0m             elif (isinstance(data, types.GeneratorType) or\n\u001b[0;32m--> 203\u001b[0;31m                   (compat.PY3 and isinstance(data, map))):\n\u001b[0m\u001b[1;32m    204\u001b[0m                 \u001b[0mdata\u001b[0m \u001b[1;33m=\u001b[0m \u001b[0mlist\u001b[0m\u001b[1;33m(\u001b[0m\u001b[0mdata\u001b[0m\u001b[1;33m)\u001b[0m\u001b[1;33m\u001b[0m\u001b[0m\n\u001b[1;32m    205\u001b[0m             \u001b[1;32melif\u001b[0m \u001b[0misinstance\u001b[0m\u001b[1;33m(\u001b[0m\u001b[0mdata\u001b[0m\u001b[1;33m,\u001b[0m \u001b[1;33m(\u001b[0m\u001b[0mset\u001b[0m\u001b[1;33m,\u001b[0m \u001b[0mfrozenset\u001b[0m\u001b[1;33m)\u001b[0m\u001b[1;33m)\u001b[0m\u001b[1;33m:\u001b[0m\u001b[1;33m\u001b[0m\u001b[0m\n",
      "\u001b[0;31mTypeError\u001b[0m: isinstance() arg 2 must be a class, type, or tuple of classes and types"
     ]
    }
   ],
   "source": [
    "print df.describe()"
   ]
  },
  {
   "cell_type": "code",
   "execution_count": 254,
   "metadata": {
    "collapsed": false
   },
   "outputs": [
    {
     "name": "stdout",
     "output_type": "stream",
     "text": [
      "   rate_marriage   age  yrs_married  children  religious  educ  occupation  occupation_husb  \\\n",
      "0            3.0  32.0          9.0       3.0        3.0  17.0         2.0              5.0   \n",
      "1            3.0  27.0         13.0       3.0        1.0  14.0         3.0              4.0   \n",
      "2            4.0  22.0          2.5       0.0        1.0  16.0         3.0              5.0   \n",
      "\n",
      "    affairs  affair  \n",
      "0  0.111111       1  \n",
      "1  3.230769       1  \n",
      "2  1.400000       1  \n"
     ]
    }
   ],
   "source": [
    "#Import Data from Statsmodel\n",
    "df = sm.datasets.fair.load_pandas().data\n",
    "\n"
   ]
  },
  {
   "cell_type": "code",
   "execution_count": null,
   "metadata": {
    "collapsed": true
   },
   "outputs": [],
   "source": [
    "# add \"affair\" column: 1 represents having affairs, 0 represents not\n",
    "df ['affair'] = (df.affairs > 0).astype(int)\n",
    "\n",
    "print df.head(3)"
   ]
  },
  {
   "cell_type": "code",
   "execution_count": 255,
   "metadata": {
    "collapsed": false
   },
   "outputs": [
    {
     "ename": "TypeError",
     "evalue": "isinstance() arg 2 must be a class, type, or tuple of classes and types",
     "output_type": "error",
     "traceback": [
      "\u001b[0;31m---------------------------------------------------------------------------\u001b[0m",
      "\u001b[0;31mTypeError\u001b[0m                                 Traceback (most recent call last)",
      "\u001b[0;32m<ipython-input-255-3c494aad77ca>\u001b[0m in \u001b[0;36m<module>\u001b[0;34m()\u001b[0m\n\u001b[0;32m----> 1\u001b[0;31m \u001b[1;32mprint\u001b[0m \u001b[0mdf\u001b[0m\u001b[1;33m.\u001b[0m\u001b[0mdescribe\u001b[0m\u001b[1;33m(\u001b[0m\u001b[1;33m)\u001b[0m\u001b[1;33m\u001b[0m\u001b[0m\n\u001b[0m",
      "\u001b[0;32mC:\\Users\\Chengcheng Liu\\Anaconda2\\lib\\site-packages\\pandas\\core\\generic.pyc\u001b[0m in \u001b[0;36mdescribe\u001b[0;34m(self, percentiles, include, exclude)\u001b[0m\n\u001b[1;32m   4933\u001b[0m             \u001b[1;32mif\u001b[0m \u001b[0mlen\u001b[0m\u001b[1;33m(\u001b[0m\u001b[0mself\u001b[0m\u001b[1;33m.\u001b[0m\u001b[0m_get_numeric_data\u001b[0m\u001b[1;33m(\u001b[0m\u001b[1;33m)\u001b[0m\u001b[1;33m.\u001b[0m\u001b[0m_info_axis\u001b[0m\u001b[1;33m)\u001b[0m \u001b[1;33m>\u001b[0m \u001b[1;36m0\u001b[0m\u001b[1;33m:\u001b[0m\u001b[1;33m\u001b[0m\u001b[0m\n\u001b[1;32m   4934\u001b[0m                 \u001b[1;31m# when some numerics are found, keep only numerics\u001b[0m\u001b[1;33m\u001b[0m\u001b[1;33m\u001b[0m\u001b[0m\n\u001b[0;32m-> 4935\u001b[0;31m                 \u001b[0mdata\u001b[0m \u001b[1;33m=\u001b[0m \u001b[0mself\u001b[0m\u001b[1;33m.\u001b[0m\u001b[0mselect_dtypes\u001b[0m\u001b[1;33m(\u001b[0m\u001b[0minclude\u001b[0m\u001b[1;33m=\u001b[0m\u001b[1;33m[\u001b[0m\u001b[0mnp\u001b[0m\u001b[1;33m.\u001b[0m\u001b[0mnumber\u001b[0m\u001b[1;33m]\u001b[0m\u001b[1;33m)\u001b[0m\u001b[1;33m\u001b[0m\u001b[0m\n\u001b[0m\u001b[1;32m   4936\u001b[0m             \u001b[1;32melse\u001b[0m\u001b[1;33m:\u001b[0m\u001b[1;33m\u001b[0m\u001b[0m\n\u001b[1;32m   4937\u001b[0m                 \u001b[0mdata\u001b[0m \u001b[1;33m=\u001b[0m \u001b[0mself\u001b[0m\u001b[1;33m\u001b[0m\u001b[0m\n",
      "\u001b[0;32mC:\\Users\\Chengcheng Liu\\Anaconda2\\lib\\site-packages\\pandas\\core\\frame.pyc\u001b[0m in \u001b[0;36mselect_dtypes\u001b[0;34m(self, include, exclude)\u001b[0m\n\u001b[1;32m   2313\u001b[0m         \u001b[1;31m# the \"union\" of the logic of case 1 and case 2:\u001b[0m\u001b[1;33m\u001b[0m\u001b[1;33m\u001b[0m\u001b[0m\n\u001b[1;32m   2314\u001b[0m         \u001b[1;31m# we get the included and excluded, and return their logical and\u001b[0m\u001b[1;33m\u001b[0m\u001b[1;33m\u001b[0m\u001b[0m\n\u001b[0;32m-> 2315\u001b[0;31m         \u001b[0minclude_these\u001b[0m \u001b[1;33m=\u001b[0m \u001b[0mSeries\u001b[0m\u001b[1;33m(\u001b[0m\u001b[1;32mnot\u001b[0m \u001b[0mbool\u001b[0m\u001b[1;33m(\u001b[0m\u001b[0minclude\u001b[0m\u001b[1;33m)\u001b[0m\u001b[1;33m,\u001b[0m \u001b[0mindex\u001b[0m\u001b[1;33m=\u001b[0m\u001b[0mself\u001b[0m\u001b[1;33m.\u001b[0m\u001b[0mcolumns\u001b[0m\u001b[1;33m)\u001b[0m\u001b[1;33m\u001b[0m\u001b[0m\n\u001b[0m\u001b[1;32m   2316\u001b[0m         \u001b[0mexclude_these\u001b[0m \u001b[1;33m=\u001b[0m \u001b[0mSeries\u001b[0m\u001b[1;33m(\u001b[0m\u001b[1;32mnot\u001b[0m \u001b[0mbool\u001b[0m\u001b[1;33m(\u001b[0m\u001b[0mexclude\u001b[0m\u001b[1;33m)\u001b[0m\u001b[1;33m,\u001b[0m \u001b[0mindex\u001b[0m\u001b[1;33m=\u001b[0m\u001b[0mself\u001b[0m\u001b[1;33m.\u001b[0m\u001b[0mcolumns\u001b[0m\u001b[1;33m)\u001b[0m\u001b[1;33m\u001b[0m\u001b[0m\n\u001b[1;32m   2317\u001b[0m \u001b[1;33m\u001b[0m\u001b[0m\n",
      "\u001b[0;32mC:\\Users\\Chengcheng Liu\\Anaconda2\\lib\\site-packages\\pandas\\core\\series.pyc\u001b[0m in \u001b[0;36m__init__\u001b[0;34m(self, data, index, dtype, name, copy, fastpath)\u001b[0m\n\u001b[1;32m    201\u001b[0m                                      \"dtype='category'\")\n\u001b[1;32m    202\u001b[0m             elif (isinstance(data, types.GeneratorType) or\n\u001b[0;32m--> 203\u001b[0;31m                   (compat.PY3 and isinstance(data, map))):\n\u001b[0m\u001b[1;32m    204\u001b[0m                 \u001b[0mdata\u001b[0m \u001b[1;33m=\u001b[0m \u001b[0mlist\u001b[0m\u001b[1;33m(\u001b[0m\u001b[0mdata\u001b[0m\u001b[1;33m)\u001b[0m\u001b[1;33m\u001b[0m\u001b[0m\n\u001b[1;32m    205\u001b[0m             \u001b[1;32melif\u001b[0m \u001b[0misinstance\u001b[0m\u001b[1;33m(\u001b[0m\u001b[0mdata\u001b[0m\u001b[1;33m,\u001b[0m \u001b[1;33m(\u001b[0m\u001b[0mset\u001b[0m\u001b[1;33m,\u001b[0m \u001b[0mfrozenset\u001b[0m\u001b[1;33m)\u001b[0m\u001b[1;33m)\u001b[0m\u001b[1;33m:\u001b[0m\u001b[1;33m\u001b[0m\u001b[0m\n",
      "\u001b[0;31mTypeError\u001b[0m: isinstance() arg 2 must be a class, type, or tuple of classes and types"
     ]
    }
   ],
   "source": []
  },
  {
   "cell_type": "code",
   "execution_count": 228,
   "metadata": {
    "collapsed": false
   },
   "outputs": [
    {
     "name": "stdout",
     "output_type": "stream",
     "text": [
      "Index(['rate_marriage', 'age', 'yrs_married', 'children', 'religious', 'educ', 'occupation', 'occupation_husb', 'affairs', 'affair'], dtype='object')\n"
     ]
    }
   ],
   "source": [
    "print df.columns"
   ]
  },
  {
   "cell_type": "code",
   "execution_count": 230,
   "metadata": {
    "collapsed": false
   },
   "outputs": [
    {
     "name": "stdout",
     "output_type": "stream",
     "text": [
      "rate_marriage  1.0  2.0  3.0   4.0   5.0\n",
      "affair                                  \n",
      "0               25  127  446  1518  2197\n",
      "1               74  221  547   724   487\n"
     ]
    }
   ],
   "source": [
    "print pd.crosstab(df['affair'], df['rate_marriage'], rownames=['affair'])"
   ]
  },
  {
   "cell_type": "code",
   "execution_count": 231,
   "metadata": {
    "collapsed": false
   },
   "outputs": [
    {
     "data": {
      "image/png": "[encoded data removed]",
      "text/plain": [
       "<matplotlib.figure.Figure at 0xd9c7ef0>"
      ]
     },
     "metadata": {},
     "output_type": "display_data"
    }
   ],
   "source": [
    "df.hist(figsize =[8,8])\n",
    "pl.show()"
   ]
  },
  {
   "cell_type": "code",
   "execution_count": 22,
   "metadata": {
    "collapsed": false
   },
   "outputs": [
    {
     "data": {
      "text/html": [
       "<div>\n",
       "<table border=\"1\" class=\"dataframe\">\n",
       "  <thead>\n",
       "    <tr style=\"text-align: right;\">\n",
       "      <th></th>\n",
       "      <th>rate_marriage</th>\n",
       "      <th>age</th>\n",
       "      <th>yrs_married</th>\n",
       "      <th>children</th>\n",
       "      <th>religious</th>\n",
       "      <th>educ</th>\n",
       "      <th>occupation</th>\n",
       "      <th>occupation_husb</th>\n",
       "      <th>affairs</th>\n",
       "    </tr>\n",
       "    <tr>\n",
       "      <th>affair</th>\n",
       "      <th></th>\n",
       "      <th></th>\n",
       "      <th></th>\n",
       "      <th></th>\n",
       "      <th></th>\n",
       "      <th></th>\n",
       "      <th></th>\n",
       "      <th></th>\n",
       "      <th></th>\n",
       "    </tr>\n",
       "  </thead>\n",
       "  <tbody>\n",
       "    <tr>\n",
       "      <th>0</th>\n",
       "      <td>4.329701</td>\n",
       "      <td>28.390679</td>\n",
       "      <td>7.989335</td>\n",
       "      <td>1.238813</td>\n",
       "      <td>2.504521</td>\n",
       "      <td>14.322977</td>\n",
       "      <td>3.405286</td>\n",
       "      <td>3.833758</td>\n",
       "      <td>0.000000</td>\n",
       "    </tr>\n",
       "    <tr>\n",
       "      <th>1</th>\n",
       "      <td>3.647345</td>\n",
       "      <td>30.537019</td>\n",
       "      <td>11.152460</td>\n",
       "      <td>1.728933</td>\n",
       "      <td>2.261568</td>\n",
       "      <td>13.972236</td>\n",
       "      <td>3.463712</td>\n",
       "      <td>3.884559</td>\n",
       "      <td>2.187243</td>\n",
       "    </tr>\n",
       "  </tbody>\n",
       "</table>\n",
       "</div>"
      ],
      "text/plain": [
       "        rate_marriage        age  yrs_married  children  religious       educ  \\\n",
       "affair                                                                          \n",
       "0            4.329701  28.390679     7.989335  1.238813   2.504521  14.322977   \n",
       "1            3.647345  30.537019    11.152460  1.728933   2.261568  13.972236   \n",
       "\n",
       "        occupation  occupation_husb   affairs  \n",
       "affair                                         \n",
       "0         3.405286         3.833758  0.000000  \n",
       "1         3.463712         3.884559  2.187243  "
      ]
     },
     "execution_count": 22,
     "metadata": {},
     "output_type": "execute_result"
    }
   ],
   "source": [
    "df.groupby('affair').mean()\n",
    "#Result show "
   ]
  },
  {
   "cell_type": "code",
   "execution_count": 25,
   "metadata": {
    "collapsed": false
   },
   "outputs": [
    {
     "data": {
      "text/html": [
       "<div>\n",
       "<table border=\"1\" class=\"dataframe\">\n",
       "  <thead>\n",
       "    <tr style=\"text-align: right;\">\n",
       "      <th></th>\n",
       "      <th>age</th>\n",
       "      <th>yrs_married</th>\n",
       "      <th>children</th>\n",
       "      <th>religious</th>\n",
       "      <th>educ</th>\n",
       "      <th>occupation</th>\n",
       "      <th>occupation_husb</th>\n",
       "      <th>affairs</th>\n",
       "      <th>affair</th>\n",
       "    </tr>\n",
       "    <tr>\n",
       "      <th>rate_marriage</th>\n",
       "      <th></th>\n",
       "      <th></th>\n",
       "      <th></th>\n",
       "      <th></th>\n",
       "      <th></th>\n",
       "      <th></th>\n",
       "      <th></th>\n",
       "      <th></th>\n",
       "      <th></th>\n",
       "    </tr>\n",
       "  </thead>\n",
       "  <tbody>\n",
       "    <tr>\n",
       "      <th>1.0</th>\n",
       "      <td>33.823232</td>\n",
       "      <td>13.914141</td>\n",
       "      <td>2.308081</td>\n",
       "      <td>2.343434</td>\n",
       "      <td>13.848485</td>\n",
       "      <td>3.232323</td>\n",
       "      <td>3.838384</td>\n",
       "      <td>1.201671</td>\n",
       "      <td>0.747475</td>\n",
       "    </tr>\n",
       "    <tr>\n",
       "      <th>2.0</th>\n",
       "      <td>30.471264</td>\n",
       "      <td>10.727011</td>\n",
       "      <td>1.735632</td>\n",
       "      <td>2.330460</td>\n",
       "      <td>13.864943</td>\n",
       "      <td>3.327586</td>\n",
       "      <td>3.764368</td>\n",
       "      <td>1.615745</td>\n",
       "      <td>0.635057</td>\n",
       "    </tr>\n",
       "    <tr>\n",
       "      <th>3.0</th>\n",
       "      <td>30.008056</td>\n",
       "      <td>10.239174</td>\n",
       "      <td>1.638469</td>\n",
       "      <td>2.308157</td>\n",
       "      <td>14.001007</td>\n",
       "      <td>3.402820</td>\n",
       "      <td>3.798590</td>\n",
       "      <td>1.371281</td>\n",
       "      <td>0.550856</td>\n",
       "    </tr>\n",
       "    <tr>\n",
       "      <th>4.0</th>\n",
       "      <td>28.856601</td>\n",
       "      <td>8.816905</td>\n",
       "      <td>1.369536</td>\n",
       "      <td>2.400981</td>\n",
       "      <td>14.144514</td>\n",
       "      <td>3.420161</td>\n",
       "      <td>3.835861</td>\n",
       "      <td>0.674837</td>\n",
       "      <td>0.322926</td>\n",
       "    </tr>\n",
       "    <tr>\n",
       "      <th>5.0</th>\n",
       "      <td>28.574702</td>\n",
       "      <td>8.311662</td>\n",
       "      <td>1.252794</td>\n",
       "      <td>2.506334</td>\n",
       "      <td>14.399776</td>\n",
       "      <td>3.454918</td>\n",
       "      <td>3.892697</td>\n",
       "      <td>0.348174</td>\n",
       "      <td>0.181446</td>\n",
       "    </tr>\n",
       "  </tbody>\n",
       "</table>\n",
       "</div>"
      ],
      "text/plain": [
       "                     age  yrs_married  children  religious       educ  \\\n",
       "rate_marriage                                                           \n",
       "1.0            33.823232    13.914141  2.308081   2.343434  13.848485   \n",
       "2.0            30.471264    10.727011  1.735632   2.330460  13.864943   \n",
       "3.0            30.008056    10.239174  1.638469   2.308157  14.001007   \n",
       "4.0            28.856601     8.816905  1.369536   2.400981  14.144514   \n",
       "5.0            28.574702     8.311662  1.252794   2.506334  14.399776   \n",
       "\n",
       "               occupation  occupation_husb   affairs    affair  \n",
       "rate_marriage                                                   \n",
       "1.0              3.232323         3.838384  1.201671  0.747475  \n",
       "2.0              3.327586         3.764368  1.615745  0.635057  \n",
       "3.0              3.402820         3.798590  1.371281  0.550856  \n",
       "4.0              3.420161         3.835861  0.674837  0.322926  \n",
       "5.0              3.454918         3.892697  0.348174  0.181446  "
      ]
     },
     "execution_count": 25,
     "metadata": {},
     "output_type": "execute_result"
    }
   ],
   "source": [
    "df.groupby('rate_marriage').mean()"
   ]
  },
  {
   "cell_type": "code",
   "execution_count": null,
   "metadata": {
    "collapsed": false
   },
   "outputs": [],
   "source": [
    "affair_yrs_married = pd.crosstab(df.yrs_married, df.affair.astype(bool))\n",
    "affair_yrs_married.div(affair_yrs_married.sum(1).astype(float), axis=0).plot(kind='bar', stacked=True)\n",
    "plt.title('Affair Percentage by Years Married')\n",
    "plt.xlabel('Years Married')\n",
    "plt.ylabel('Percentage')"
   ]
  },
  {
   "cell_type": "code",
   "execution_count": null,
   "metadata": {
    "collapsed": false
   },
   "outputs": [],
   "source": [
    "affair_children = pd.crosstab(df.children, df.affair.astype(bool))\n",
    "affair_children.div(affair_children.sum(1).astype(float), axis=0).plot(kind='bar', stacked=True)\n",
    "plt.title('Affair Percentage by Rate Marriage')\n",
    "plt.xlabel('Children')\n",
    "plt.ylabel('Percentage')"
   ]
  },
  {
   "cell_type": "code",
   "execution_count": null,
   "metadata": {
    "collapsed": true
   },
   "outputs": [],
   "source": [
    "affair_rate_marriage = pd.crosstab(df.rate_marriage, df.affair.astype(bool))\n",
    "affair_rate_marriage.div(affair_rate_marriage.sum(1).astype(float), axis=0).plot(kind='bar', stacked=True)\n",
    "plt.title('Affair Percentage by Rate Marriage')\n",
    "plt.xlabel('Rate Marriage')\n",
    "plt.ylabel('Percentage')"
   ]
  },
  {
   "cell_type": "code",
   "execution_count": null,
   "metadata": {
    "collapsed": false
   },
   "outputs": [],
   "source": []
  },
  {
   "cell_type": "code",
   "execution_count": null,
   "metadata": {
    "collapsed": true
   },
   "outputs": [],
   "source": []
  },
  {
   "cell_type": "code",
   "execution_count": 232,
   "metadata": {
    "collapsed": false
   },
   "outputs": [
    {
     "name": "stdout",
     "output_type": "stream",
     "text": [
      "   occu_1.0  occu_2.0  occu_3.0  occu_4.0  occu_5.0  occu_6.0\n",
      "0       0.0       1.0       0.0       0.0       0.0       0.0\n",
      "1       0.0       0.0       1.0       0.0       0.0       0.0\n",
      "2       0.0       0.0       1.0       0.0       0.0       0.0\n",
      "3       0.0       0.0       0.0       0.0       1.0       0.0\n",
      "4       0.0       0.0       1.0       0.0       0.0       0.0\n"
     ]
    }
   ],
   "source": [
    "# dummify rank\n",
    "dummy_occu = pd.get_dummies(df['occupation'], prefix = 'occu')\n",
    "print dummy_occu.head()\n"
   ]
  },
  {
   "cell_type": "code",
   "execution_count": 234,
   "metadata": {
    "collapsed": false
   },
   "outputs": [
    {
     "name": "stdout",
     "output_type": "stream",
     "text": [
      "   occuh_1.0  occuh_2.0  occuh_3.0  occuh_4.0  occuh_5.0  occuh_6.0\n",
      "0        0.0        0.0        0.0        0.0        1.0        0.0\n",
      "1        0.0        0.0        0.0        1.0        0.0        0.0\n",
      "2        0.0        0.0        0.0        0.0        1.0        0.0\n",
      "3        0.0        0.0        0.0        0.0        1.0        0.0\n",
      "4        0.0        0.0        0.0        1.0        0.0        0.0\n"
     ]
    }
   ],
   "source": [
    "# dummify rank\n",
    "dummy_occuhusb = pd.get_dummies(df['occupation_husb'], prefix='occuh')\n",
    "print dummy_occuhusb.head()"
   ]
  },
  {
   "cell_type": "code",
   "execution_count": null,
   "metadata": {
    "collapsed": true
   },
   "outputs": [],
   "source": []
  },
  {
   "cell_type": "code",
   "execution_count": 236,
   "metadata": {
    "collapsed": false
   },
   "outputs": [
    {
     "name": "stdout",
     "output_type": "stream",
     "text": [
      "   affair  rate_marriage   age  yrs_married  children  religious  educ  occu_2.0  occu_3.0  \\\n",
      "0       1            3.0  32.0          9.0       3.0        3.0  17.0       1.0       0.0   \n",
      "1       1            3.0  27.0         13.0       3.0        1.0  14.0       0.0       1.0   \n",
      "2       1            4.0  22.0          2.5       0.0        1.0  16.0       0.0       1.0   \n",
      "3       1            4.0  37.0         16.5       4.0        3.0  16.0       0.0       0.0   \n",
      "4       1            5.0  27.0          9.0       1.0        1.0  14.0       0.0       1.0   \n",
      "\n",
      "   occu_4.0  occu_5.0  occu_6.0  occuh_2.0  occuh_3.0  occuh_4.0  occuh_5.0  occuh_6.0  \n",
      "0       0.0       0.0       0.0        0.0        0.0        0.0        1.0        0.0  \n",
      "1       0.0       0.0       0.0        0.0        0.0        1.0        0.0        0.0  \n",
      "2       0.0       0.0       0.0        0.0        0.0        0.0        1.0        0.0  \n",
      "3       0.0       1.0       0.0        0.0        0.0        0.0        1.0        0.0  \n",
      "4       0.0       0.0       0.0        0.0        0.0        1.0        0.0        0.0  \n"
     ]
    }
   ],
   "source": [
    "# create a clean data frame for the regression\n",
    "cols_0 = ['affair','rate_marriage','age','yrs_married','children','religious','educ']\n",
    "data_0 = df[cols_0].join(dummy_occu.ix[:,'occu_2':])\n",
    "data_0 = data_0.join(dummy_occuhusb.ix[:,'occuh_2':])\n",
    "pd.set_option('display.width', 100)\n",
    "print data_0.head()        "
   ]
  },
  {
   "cell_type": "code",
   "execution_count": 237,
   "metadata": {
    "collapsed": false
   },
   "outputs": [
    {
     "name": "stdout",
     "output_type": "stream",
     "text": [
      "   affair  rate_marriage   age  yrs_married  children  religious  educ  occu_2.0  occu_3.0  \\\n",
      "0       1            3.0  32.0          9.0       3.0        3.0  17.0       1.0       0.0   \n",
      "1       1            3.0  27.0         13.0       3.0        1.0  14.0       0.0       1.0   \n",
      "2       1            4.0  22.0          2.5       0.0        1.0  16.0       0.0       1.0   \n",
      "3       1            4.0  37.0         16.5       4.0        3.0  16.0       0.0       0.0   \n",
      "4       1            5.0  27.0          9.0       1.0        1.0  14.0       0.0       1.0   \n",
      "\n",
      "   occu_4.0  occu_5.0  occu_6.0  occuh_2.0  occuh_3.0  occuh_4.0  occuh_5.0  occuh_6.0  intercept  \n",
      "0       0.0       0.0       0.0        0.0        0.0        0.0        1.0        0.0        1.0  \n",
      "1       0.0       0.0       0.0        0.0        0.0        1.0        0.0        0.0        1.0  \n",
      "2       0.0       0.0       0.0        0.0        0.0        0.0        1.0        0.0        1.0  \n",
      "3       0.0       1.0       0.0        0.0        0.0        0.0        1.0        0.0        1.0  \n",
      "4       0.0       0.0       0.0        0.0        0.0        1.0        0.0        0.0        1.0  \n"
     ]
    }
   ],
   "source": [
    "# manually add the intercept\n",
    "data_0['intercept'] = 1.0\n",
    "print data_0.head() "
   ]
  },
  {
   "cell_type": "code",
   "execution_count": 238,
   "metadata": {
    "collapsed": false
   },
   "outputs": [
    {
     "name": "stdout",
     "output_type": "stream",
     "text": [
      "Optimization terminated successfully.\n",
      "         Current function value: 0.542911\n",
      "         Iterations 6\n"
     ]
    }
   ],
   "source": [
    "train_cols_0 = data_0.columns[1:]\n",
    "logit_0 = sm.Logit(data_0['affair'], data_0[train_cols_0])\n",
    "# fit the model\n",
    "result_0 = logit_0.fit()\n"
   ]
  },
  {
   "cell_type": "code",
   "execution_count": 239,
   "metadata": {
    "collapsed": false
   },
   "outputs": [
    {
     "name": "stdout",
     "output_type": "stream",
     "text": [
      "                           Logit Regression Results                           \n",
      "==============================================================================\n",
      "Dep. Variable:                 affair   No. Observations:                 6366\n",
      "Model:                          Logit   Df Residuals:                     6349\n",
      "Method:                           MLE   Df Model:                           16\n",
      "Date:                Sun, 09 Apr 2017   Pseudo R-squ.:                  0.1365\n",
      "Time:                        06:48:10   Log-Likelihood:                -3456.2\n",
      "converged:                       True   LL-Null:                       -4002.5\n",
      "                                        LLR p-value:                1.534e-222\n",
      "=================================================================================\n",
      "                    coef    std err          z      P>|z|      [95.0% Conf. Int.]\n",
      "---------------------------------------------------------------------------------\n",
      "rate_marriage    -0.7102      0.031    -22.560      0.000        -0.772    -0.649\n",
      "age              -0.0613      0.010     -5.936      0.000        -0.082    -0.041\n",
      "yrs_married       0.1080      0.011      9.836      0.000         0.086     0.129\n",
      "children          0.0156      0.032      0.488      0.625        -0.047     0.078\n",
      "religious        -0.3754      0.035    -10.766      0.000        -0.444    -0.307\n",
      "educ             -0.0017      0.017     -0.099      0.921        -0.036     0.032\n",
      "occu_2.0          0.3902      0.448      0.872      0.383        -0.487     1.267\n",
      "occu_3.0          0.7027      0.441      1.592      0.111        -0.163     1.568\n",
      "occu_4.0          0.4714      0.443      1.065      0.287        -0.396     1.339\n",
      "occu_5.0          1.0542      0.447      2.360      0.018         0.179     1.930\n",
      "occu_6.0          1.1080      0.494      2.242      0.025         0.139     2.077\n",
      "occuh_2.0         0.1704      0.186      0.916      0.360        -0.194     0.535\n",
      "occuh_3.0         0.2842      0.202      1.406      0.160        -0.112     0.680\n",
      "occuh_4.0         0.1428      0.181      0.789      0.430        -0.212     0.498\n",
      "occuh_5.0         0.1723      0.183      0.944      0.345        -0.186     0.530\n",
      "occuh_6.0         0.1828      0.204      0.897      0.369        -0.216     0.582\n",
      "intercept         2.9708      0.572      5.192      0.000         1.849     4.092\n",
      "=================================================================================\n"
     ]
    }
   ],
   "source": [
    "print result_0.summary()\n",
    "#from the result we can see \n",
    "#1. Rate of marriage, as expected, has a negative effect on probability of having an affair\n",
    "#2. Result show that age has a negative effect while year of marriage has a positive effect, \n",
    "#   obviously there is a positive correlation between age and years of marriage, \n",
    "#   Therefore in the following regression I want to drop years of marriage\n",
    "#3. Having an religious will have a negative effect on the probability, \n",
    "#4. Number of child and education effects are ambiguous\n",
    "#5. Among the occupation and husbands' occupation, husbands' occupation \n",
    "#   individually does not show statistical significance, test join effect(F test) next.\n",
    "#   However, occupation of wife have a positive influence on probability of having an affair. "
   ]
  },
  {
   "cell_type": "code",
   "execution_count": 240,
   "metadata": {
    "collapsed": false
   },
   "outputs": [
    {
     "name": "stdout",
     "output_type": "stream",
     "text": [
      "<F test: F=array([[ 4.34278311]]), p=0.0372060120949, df_denom=6349, df_num=1>\n"
     ]
    }
   ],
   "source": [
    "print result_0.f_test([0,0,0,0,0,0,0,0,0,0,1,1,1,1,1,1,0] )\n",
    "#F test show joint effect of husband's occupation doesn't show effect on probability of affair\n",
    "#   (p-value <0.1)\n",
    "#   possible explanation: husbands' occupation is positivily correlated with wife's occupation\n",
    "#   therefore inclulding one would be sufficient"
   ]
  },
  {
   "cell_type": "code",
   "execution_count": 262,
   "metadata": {
    "collapsed": false
   },
   "outputs": [
    {
     "name": "stdout",
     "output_type": "stream",
     "text": [
      "<F test: F=array([[ 2.8446414]]), p=0.0917281747694, df_denom=6349, df_num=1>\n"
     ]
    }
   ],
   "source": [
    "print result_0.f_test([0,0,0,0,0,1,1,1,1,1,1,0,0,0,0,0,0] )"
   ]
  },
  {
   "cell_type": "code",
   "execution_count": 241,
   "metadata": {
    "collapsed": false
   },
   "outputs": [
    {
     "name": "stdout",
     "output_type": "stream",
     "text": [
      "                      0         1\n",
      "rate_marriage -0.771931 -0.648525\n",
      "age           -0.081512 -0.041046\n",
      "yrs_married    0.086461  0.129491\n",
      "children      -0.047174  0.078463\n",
      "religious     -0.443727 -0.307045\n",
      "educ          -0.035825  0.032374\n",
      "occu_2.0      -0.486945  1.267422\n",
      "occu_3.0      -0.162566  1.567925\n",
      "occu_4.0      -0.395933  1.338726\n",
      "occu_5.0       0.178810  1.929585\n",
      "occu_6.0       0.139377  2.076654\n",
      "occuh_2.0     -0.194277  0.535170\n",
      "occuh_3.0     -0.112055  0.680400\n",
      "occuh_4.0     -0.211921  0.497602\n",
      "occuh_5.0     -0.185634  0.530292\n",
      "occuh_6.0     -0.216387  0.581914\n",
      "intercept      1.849244  4.092266\n"
     ]
    }
   ],
   "source": [
    "# look at the confidence interval of each coeffecient\n",
    "print result_0.conf_int()"
   ]
  },
  {
   "cell_type": "code",
   "execution_count": null,
   "metadata": {
    "collapsed": false
   },
   "outputs": [],
   "source": [
    "# odds ratios only\n",
    "print np.exp(result_0.params)"
   ]
  },
  {
   "cell_type": "code",
   "execution_count": 108,
   "metadata": {
    "collapsed": false
   },
   "outputs": [
    {
     "name": "stdout",
     "output_type": "stream",
     "text": [
      "                   2.5%      97.5%         OR\n",
      "rate_marriage  0.462120   0.522816   0.491532\n",
      "age            0.921722   0.959785   0.940561\n",
      "yrs_married    1.090309   1.138249   1.114021\n",
      "children       0.953922   1.081624   1.015768\n",
      "religious      0.641640   0.735617   0.687024\n",
      "educ           0.964809   1.032904   0.998276\n",
      "occu_2.0       0.614501   3.551684   1.477333\n",
      "occu_3.0       0.849960   4.796683   2.019155\n",
      "occu_4.0       0.673052   3.814183   1.602231\n",
      "occu_5.0       1.195793   6.886653   2.869671\n",
      "occu_6.0       1.149557   7.977731   3.028342\n",
      "occuh_2.0      0.823430   1.707739   1.185835\n",
      "occuh_3.0      0.893995   1.974668   1.328662\n",
      "occuh_4.0      0.809029   1.644773   1.153546\n",
      "occuh_5.0      0.830577   1.699429   1.188068\n",
      "occuh_6.0      0.805423   1.789460   1.200530\n",
      "intercept      6.355013  59.875423  19.506642\n"
     ]
    }
   ],
   "source": [
    "#odds ratios and 95% CI\n",
    "params = result_0.params\n",
    "conf = result_0.conf_int()\n",
    "conf['OR'] = params\n",
    "conf.columns = ['2.5%', '97.5%', 'OR']\n",
    "print np.exp(conf)"
   ]
  },
  {
   "cell_type": "code",
   "execution_count": 176,
   "metadata": {
    "collapsed": false
   },
   "outputs": [
    {
     "name": "stdout",
     "output_type": "stream",
     "text": [
      "   affair  rate_marriage  yrs_married  religious  occu_2.0  occu_3.0  \\\n",
      "0       1            3.0          9.0        3.0       1.0       0.0   \n",
      "1       1            3.0         13.0        1.0       0.0       1.0   \n",
      "2       1            4.0          2.5        1.0       0.0       1.0   \n",
      "3       1            4.0         16.5        3.0       0.0       0.0   \n",
      "4       1            5.0          9.0        1.0       0.0       1.0   \n",
      "\n",
      "   occu_4.0  occu_5.0  occu_6.0  intercept  \n",
      "0       0.0       0.0       0.0        1.0  \n",
      "1       0.0       0.0       0.0        1.0  \n",
      "2       0.0       0.0       0.0        1.0  \n",
      "3       0.0       1.0       0.0        1.0  \n",
      "4       0.0       0.0       0.0        1.0  \n"
     ]
    }
   ],
   "source": [
    "## Model without age, educ and children\n",
    "cols = ['affair','rate_marriage','yrs_married','religious']\n",
    "data = df[cols_1].join(dummy_occu.ix[:,'occu_2':])\n",
    "data['intercept'] = 1.0\n",
    "print data.head()     \n"
   ]
  },
  {
   "cell_type": "code",
   "execution_count": 179,
   "metadata": {
    "collapsed": false
   },
   "outputs": [
    {
     "name": "stdout",
     "output_type": "stream",
     "text": [
      "   affair  rate_marriage  yrs_married  religious  occu_2  occu_3  occu_4  \\\n",
      "0       1            3.0          9.0        3.0     1.0     0.0     0.0   \n",
      "1       1            3.0         13.0        1.0     0.0     1.0     0.0   \n",
      "2       1            4.0          2.5        1.0     0.0     1.0     0.0   \n",
      "3       1            4.0         16.5        3.0     0.0     0.0     0.0   \n",
      "4       1            5.0          9.0        1.0     0.0     1.0     0.0   \n",
      "\n",
      "   occu_5  occu_6  intercept  \n",
      "0     0.0     0.0        1.0  \n",
      "1     0.0     0.0        1.0  \n",
      "2     0.0     0.0        1.0  \n",
      "3     1.0     0.0        1.0  \n",
      "4     0.0     0.0        1.0  \n"
     ]
    }
   ],
   "source": [
    "data.columns = ['affair', 'rate_marriage', 'yrs_married', 'religious', \n",
    "                'occu_2','occu_3','occu_4','occu_5','occu_6','intercept']\n",
    "print data.head()\n"
   ]
  },
  {
   "cell_type": "code",
   "execution_count": 180,
   "metadata": {
    "collapsed": false
   },
   "outputs": [
    {
     "name": "stdout",
     "output_type": "stream",
     "text": [
      "Optimization terminated successfully.\n",
      "         Current function value: 0.546098\n",
      "         Iterations 6\n"
     ]
    }
   ],
   "source": [
    "train_cols = data.columns[1:]\n",
    "logit = sm.Logit(data['affair'], data[train_cols])\n",
    "# fit the model\n",
    "result = logit.fit()"
   ]
  },
  {
   "cell_type": "code",
   "execution_count": 181,
   "metadata": {
    "collapsed": false
   },
   "outputs": [
    {
     "name": "stdout",
     "output_type": "stream",
     "text": [
      "                           Logit Regression Results                           \n",
      "==============================================================================\n",
      "Dep. Variable:                 affair   No. Observations:                 6366\n",
      "Model:                          Logit   Df Residuals:                     6357\n",
      "Method:                           MLE   Df Model:                            8\n",
      "Date:                Sun, 09 Apr 2017   Pseudo R-squ.:                  0.1314\n",
      "Time:                        06:13:50   Log-Likelihood:                -3476.5\n",
      "converged:                       True   LL-Null:                       -4002.5\n",
      "                                        LLR p-value:                8.257e-222\n",
      "=================================================================================\n",
      "                    coef    std err          z      P>|z|      [95.0% Conf. Int.]\n",
      "---------------------------------------------------------------------------------\n",
      "rate_marriage    -0.7071      0.031    -22.608      0.000        -0.768    -0.646\n",
      "yrs_married       0.0592      0.004     14.599      0.000         0.051     0.067\n",
      "religious        -0.3782      0.035    -10.925      0.000        -0.446    -0.310\n",
      "occu_2            0.4091      0.442      0.925      0.355        -0.458     1.276\n",
      "occu_3            0.7004      0.437      1.603      0.109        -0.156     1.557\n",
      "occu_4            0.4001      0.438      0.912      0.362        -0.459     1.260\n",
      "occu_5            1.0117      0.442      2.287      0.022         0.145     1.879\n",
      "occu_6            0.9537      0.486      1.963      0.050         0.002     1.906\n",
      "intercept         1.8194      0.458      3.969      0.000         0.921     2.718\n",
      "=================================================================================\n"
     ]
    }
   ],
   "source": [
    "print result.summary()"
   ]
  },
  {
   "cell_type": "code",
   "execution_count": null,
   "metadata": {
    "collapsed": false
   },
   "outputs": [],
   "source": [
    "# look at the confidence interval of each coeffecient\n",
    "print result.conf_int()"
   ]
  },
  {
   "cell_type": "code",
   "execution_count": 263,
   "metadata": {
    "collapsed": false
   },
   "outputs": [
    {
     "name": "stdout",
     "output_type": "stream",
     "text": [
      "rate_marriage    0.493083\n",
      "yrs_married      1.060973\n",
      "religious        0.685128\n",
      "occu_2           1.505465\n",
      "occu_3           2.014491\n",
      "occu_4           1.491980\n",
      "occu_5           2.750350\n",
      "occu_6           2.595173\n",
      "intercept        6.167983\n",
      "dtype: float64\n"
     ]
    }
   ],
   "source": [
    "# odds ratios only\n",
    "print np.exp(result.params)"
   ]
  },
  {
   "cell_type": "code",
   "execution_count": 118,
   "metadata": {
    "collapsed": false
   },
   "outputs": [
    {
     "name": "stdout",
     "output_type": "stream",
     "text": [
      "                   2.5%      97.5%        OR\n",
      "rate_marriage  0.463765   0.524254  0.493083\n",
      "yrs_married    1.052576   1.069437  1.060973\n",
      "religious      0.640188   0.733222  0.685128\n",
      "occu_2.0       0.632646   3.582452  1.505465\n",
      "occu_3.0       0.855705   4.742491  2.014491\n",
      "occu_4.0       0.631703   3.523814  1.491980\n",
      "occu_5.0       1.155821   6.544633  2.750350\n",
      "occu_6.0       1.001604   6.724139  2.595173\n",
      "intercept      2.511716  15.146620  6.167983\n"
     ]
    }
   ],
   "source": [
    "# odds ratios and 95% CI\n",
    "params = result.params\n",
    "conf = result.conf_int()\n",
    "conf['OR'] = params\n",
    "conf.columns = ['2.5%', '97.5%', 'OR']\n",
    "print np.exp(conf)"
   ]
  },
  {
   "cell_type": "code",
   "execution_count": 188,
   "metadata": {
    "collapsed": false
   },
   "outputs": [
    {
     "name": "stdout",
     "output_type": "stream",
     "text": [
      "[ 1.  2.  3.  4.  5.]\n",
      "[  0.5   3.    5.5   8.   10.5  13.   15.5  18.   20.5  23. ]\n"
     ]
    }
   ],
   "source": [
    "# instead of generating all possible values of rate_marriage and yrs_married, we're going\n",
    "# to use an evenly spaced range of 10 values from the min to the max\n",
    "rate_marriages = np.linspace(data['rate_marriage'].min(), data['rate_marriage'].max(), 5)\n",
    "print rate_marriages\n",
    "yrs_marrieds = np.linspace(data['yrs_married'].min(), data['yrs_married'].max(), 10)\n",
    "print yrs_marrieds"
   ]
  },
  {
   "cell_type": "code",
   "execution_count": 189,
   "metadata": {
    "collapsed": false
   },
   "outputs": [
    {
     "ename": "IndentationError",
     "evalue": "unexpected indent (<ipython-input-189-9913e65b056d>, line 3)",
     "output_type": "error",
     "traceback": [
      "\u001b[0;36m  File \u001b[0;32m\"<ipython-input-189-9913e65b056d>\"\u001b[0;36m, line \u001b[0;32m3\u001b[0m\n\u001b[0;31m    gres = np.linspace(data['rate_marriage'].min(), data['yrs_married'].max(), 10)\u001b[0m\n\u001b[0m    ^\u001b[0m\n\u001b[0;31mIndentationError\u001b[0m\u001b[0;31m:\u001b[0m unexpected indent\n"
     ]
    }
   ],
   "source": [
    "# instead of generating all possible values of rate_marriage and yrs_married, we're going\n",
    "# to use an evenly spaced range of 10 values from the min to the max\n",
    "  gres = np.linspace(data['rate_marriage'].min(), data['yrs_married'].max(), 10)\n",
    "  print rate_marriage\n",
    "  gpas = np.linspace(data['yrs_married'].min(), data['yrs_married'].max(), 10)\n",
    "  print yrs_married\n"
   ]
  },
  {
   "cell_type": "code",
   "execution_count": null,
   "metadata": {
    "collapsed": true
   },
   "outputs": [],
   "source": []
  },
  {
   "cell_type": "code",
   "execution_count": null,
   "metadata": {
    "collapsed": true
   },
   "outputs": [],
   "source": []
  },
  {
   "cell_type": "code",
   "execution_count": 190,
   "metadata": {
    "collapsed": false
   },
   "outputs": [],
   "source": [
    "# instead of generating all possible values of GRE and GPA, we're going\n",
    "# to use an evenly spaced range of 10 values from the min to the max\n",
    "#ages = np.linspace(data['gre'].min(), data['gre'].max(), 10)\n",
    "#print gres\n",
    "#gpas = np.linspace(data['gpa'].min(), data['gpa'].max(), 10)\n",
    "#print gpas\n",
    "\n",
    "\n",
    "#define the cartesian function\n",
    "def cartesian(arrays, out=None):\n",
    "    arrays = [np.asarray(x) for x in arrays]\n",
    "    dtype = arrays[0].dtype\n",
    "\n",
    "    n = np.prod([x.size for x in arrays])\n",
    "    if out is None:\n",
    "        out = np.zeros([n, len(arrays)], dtype=dtype)\n",
    "\n",
    "    m = n / arrays[0].size\n",
    "    out[:,0] = np.repeat(arrays[0], m)\n",
    "    if arrays[1:]:\n",
    "        cartesian(arrays[1:], out=out[0:m,1:])\n",
    "        for j in xrange(1, arrays[0].size):\n",
    "              out[j*m:(j+1)*m,1:] = out[0:m,1:]\n",
    "    return out"
   ]
  },
  {
   "cell_type": "code",
   "execution_count": 191,
   "metadata": {
    "collapsed": false
   },
   "outputs": [
    {
     "name": "stdout",
     "output_type": "stream",
     "text": [
      "   rate_marriage  yrs_married  religious  occupation  intercept  occu_2  \\\n",
      "0            1.0          0.5        1.0         1.0        1.0     0.0   \n",
      "1            1.0          0.5        1.0         2.0        1.0     1.0   \n",
      "2            1.0          0.5        1.0         3.0        1.0     0.0   \n",
      "3            1.0          0.5        1.0         4.0        1.0     0.0   \n",
      "4            1.0          0.5        1.0         5.0        1.0     0.0   \n",
      "\n",
      "   occu_3  occu_4  occu_5  occu_6  \n",
      "0     0.0     0.0     0.0     0.0  \n",
      "1     0.0     0.0     0.0     0.0  \n",
      "2     1.0     0.0     0.0     0.0  \n",
      "3     0.0     1.0     0.0     0.0  \n",
      "4     0.0     0.0     1.0     0.0  \n"
     ]
    }
   ],
   "source": [
    "\n",
    "# enumerate all possibilities\n",
    "combos = pd.DataFrame(cartesian([rate_marriages , yrs_marrieds ,[1.],[1, 2, 3, 4, 5, 6], [1.]]))\n",
    "# recreate the dummy variables\n",
    "combos.columns = ['rate_marriage','yrs_married' ,'religious','occupation','intercept']\n",
    "dummy_ranks = pd.get_dummies(combos['occupation'], prefix='occu')\n",
    "dummy_ranks.columns = ['occu_1', 'occu_2', 'occu_3', 'occu_4', 'occu_5', 'occu_6']\n",
    "\n",
    "# keep only what we need for making predictions\n",
    "cols_to_keep = ['rate_marriage','yrs_married','religious','occupation','intercept']\n",
    "combos = combos[cols_to_keep].join(dummy_ranks.ix[:, 'occu_2':])\n",
    "print combos.head()\n"
   ]
  },
  {
   "cell_type": "code",
   "execution_count": 192,
   "metadata": {
    "collapsed": false
   },
   "outputs": [
    {
     "name": "stdout",
     "output_type": "stream",
     "text": [
      "   occu_1  occu_2  occu_3  occu_4  occu_5  occu_6\n",
      "0     1.0     0.0     0.0     0.0     0.0     0.0\n",
      "1     0.0     1.0     0.0     0.0     0.0     0.0\n",
      "2     0.0     0.0     1.0     0.0     0.0     0.0\n",
      "3     0.0     0.0     0.0     1.0     0.0     0.0\n",
      "4     0.0     0.0     0.0     0.0     1.0     0.0\n"
     ]
    }
   ],
   "source": [
    "dummy_ranks.ix[:, 'occu_2':]\n",
    "print dummy_ranks.head()"
   ]
  },
  {
   "cell_type": "code",
   "execution_count": 193,
   "metadata": {
    "collapsed": false
   },
   "outputs": [
    {
     "name": "stdout",
     "output_type": "stream",
     "text": [
      "   rate_marriage  yrs_married  religious  occupation  intercept  occu_2  \\\n",
      "0            1.0          0.5        1.0         1.0        1.0     0.0   \n",
      "1            1.0          0.5        1.0         2.0        1.0     1.0   \n",
      "2            1.0          0.5        1.0         3.0        1.0     0.0   \n",
      "3            1.0          0.5        1.0         4.0        1.0     0.0   \n",
      "4            1.0          0.5        1.0         5.0        1.0     0.0   \n",
      "\n",
      "   occu_3  occu_4  occu_5  occu_6  affair_pred  \n",
      "0     0.0     0.0     0.0     0.0     0.682165  \n",
      "1     0.0     0.0     0.0     0.0     0.763658  \n",
      "2     1.0     0.0     0.0     0.0     0.812160  \n",
      "3     0.0     1.0     0.0     0.0     0.762030  \n",
      "4     0.0     0.0     1.0     0.0     0.855136  \n"
     ]
    }
   ],
   "source": [
    "# make predictions on the enumerated dataset\n",
    "combos['affair_pred'] = result.predict(combos[train_cols])\n",
    "\n",
    "print combos.head()"
   ]
  },
  {
   "cell_type": "code",
   "execution_count": 197,
   "metadata": {
    "collapsed": true
   },
   "outputs": [],
   "source": [
    "pl.legend?"
   ]
  },
  {
   "cell_type": "code",
   "execution_count": 202,
   "metadata": {
    "collapsed": false
   },
   "outputs": [
    {
     "data": {
      "image/png": "[encoded data removed]",
      "text/plain": [
       "<matplotlib.figure.Figure at 0xb22dc50>"
      ]
     },
     "metadata": {},
     "output_type": "display_data"
    },
    {
     "data": {
      "image/png": "[encoded data removed]",
      "text/plain": [
       "<matplotlib.figure.Figure at 0xb22d450>"
      ]
     },
     "metadata": {},
     "output_type": "display_data"
    }
   ],
   "source": [
    "def isolate_and_plot(variable):\n",
    "    # isolate gre and class rank\n",
    "    grouped = pd.pivot_table(combos, values=['affair_pred'], index=[variable, 'occupation'],\n",
    "                  aggfunc=np.mean)\n",
    "    # make a plot\n",
    "    colors = 'rbgyrbgy'\n",
    "    for col in combos.occupation.unique():\n",
    "        plt_data = grouped.ix[grouped.index.get_level_values(1)==col]\n",
    "        pl.plot(plt_data.index.get_level_values(0), plt_data['affair_pred'], color=colors[int(col)])\n",
    "        \n",
    "    pl.xlabel(variable)\n",
    "    pl.ylabel(\"P(affair=1)\")\n",
    "    pl.legend(['1 = student', '2 = farming/semi-skilled/unskilled', \n",
    "'3 = \"white collar\"', '4 = teacher/nurse/writer/technician/skilled', \n",
    "'5 = managerial/business', '6 = professional with advanced degree'\n",
    "], loc='best', title='occupation',fontsize = 'xx-small')\n",
    "    pl.title(\"Prob(affair=1) isolating \" + variable + \" and occupation\")\n",
    "    pl.show()\n",
    "\n",
    "isolate_and_plot('rate_marriage')\n",
    "isolate_and_plot('yrs_married')\n"
   ]
  },
  {
   "cell_type": "code",
   "execution_count": 264,
   "metadata": {
    "collapsed": true
   },
   "outputs": [],
   "source": [
    "pl.plot?"
   ]
  },
  {
   "cell_type": "code",
   "execution_count": 266,
   "metadata": {
    "collapsed": true
   },
   "outputs": [],
   "source": [
    "colors = "
   ]
  },
  {
   "cell_type": "code",
   "execution_count": null,
   "metadata": {
    "collapsed": true
   },
   "outputs": [],
   "source": [
    "    "
   ]
  }
 ],
 "metadata": {
  "anaconda-cloud": {},
  "kernelspec": {
   "display_name": "Python [default]",
   "language": "python",
   "name": "python2"
  },
  "language_info": {
   "codemirror_mode": {
    "name": "ipython",
    "version": 2
   },
   "file_extension": ".py",
   "mimetype": "text/x-python",
   "name": "python",
   "nbconvert_exporter": "python",
   "pygments_lexer": "ipython2",
   "version": "2.7.12"
  }
 },
 "nbformat": 4,
 "nbformat_minor": 0
}
